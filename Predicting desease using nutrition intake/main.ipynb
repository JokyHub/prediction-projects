{
 "cells": [
  {
   "cell_type": "markdown",
   "metadata": {},
   "source": [
    "## Predicting Patients Disease: Analysis & Modelling of Food & Nutrition Dataset\n",
    "\n",
    "**Objective**: Build a Machine Learning model to forecast the disease of each patient and Explain how features (mainly nutritional intake) affect disease.\n",
    "\n",
    "Dataset: https://www.kaggle.com/datasets/bitanianielsen/nutrition-daily-meals-in-diseases-cases/data\n",
    "\n",
    "**Table of Contents**\n",
    "1. Loading the Data\n",
    "2. Exploratory Data Analysis\n",
    "3. Data Pre-processing & Feature Engineering\n",
    "4. Training Set Modelling\n",
    "5. Model Evaluation\n",
    "6. Features Importance & Model Interpretability\n",
    "7. Set Modelling"
   ]
  },
  {
   "cell_type": "code",
   "execution_count": 1,
   "metadata": {},
   "outputs": [
    {
     "name": "stdout",
     "output_type": "stream",
     "text": [
      "Note: you may need to restart the kernel to use updated packages.\n"
     ]
    },
    {
     "name": "stderr",
     "output_type": "stream",
     "text": [
      "\n",
      "[notice] A new release of pip is available: 24.2 -> 24.3.1\n",
      "[notice] To update, run: python.exe -m pip install --upgrade pip\n"
     ]
    }
   ],
   "source": [
    "pip install -U -q skimpy"
   ]
  },
  {
   "cell_type": "code",
   "execution_count": 3,
   "metadata": {},
   "outputs": [
    {
     "name": "stdout",
     "output_type": "stream",
     "text": [
      "Note: you may need to restart the kernel to use updated packages.\n"
     ]
    },
    {
     "name": "stderr",
     "output_type": "stream",
     "text": [
      "\n",
      "[notice] A new release of pip is available: 24.2 -> 24.3.1\n",
      "[notice] To update, run: python.exe -m pip install --upgrade pip\n"
     ]
    }
   ],
   "source": [
    "pip install -U -q seaborn"
   ]
  },
  {
   "cell_type": "markdown",
   "metadata": {},
   "source": [
    "### Importing modules"
   ]
  },
  {
   "cell_type": "code",
   "execution_count": 4,
   "metadata": {},
   "outputs": [],
   "source": [
    "from skimpy import skim\n",
    "import tqdm\n",
    "\n",
    "import pandas as pd\n",
    "import matplotlib.pyplot as plt\n",
    "%matplotlib inline\n",
    "import seaborn as sns\n",
    "import warnings\n",
    "warnings.filterwarnings(\"ignore\")\n",
    "\n"
   ]
  },
  {
   "cell_type": "markdown",
   "metadata": {},
   "source": [
    "### 1. Loading the Data"
   ]
  },
  {
   "cell_type": "code",
   "execution_count": 6,
   "metadata": {},
   "outputs": [
    {
     "data": {
      "text/html": [
       "<div>\n",
       "<style scoped>\n",
       "    .dataframe tbody tr th:only-of-type {\n",
       "        vertical-align: middle;\n",
       "    }\n",
       "\n",
       "    .dataframe tbody tr th {\n",
       "        vertical-align: top;\n",
       "    }\n",
       "\n",
       "    .dataframe thead th {\n",
       "        text-align: right;\n",
       "    }\n",
       "</style>\n",
       "<table border=\"1\" class=\"dataframe\">\n",
       "  <thead>\n",
       "    <tr style=\"text-align: right;\">\n",
       "      <th></th>\n",
       "      <th>Ages</th>\n",
       "      <th>Gender</th>\n",
       "      <th>Height</th>\n",
       "      <th>Weight</th>\n",
       "      <th>Activity Level</th>\n",
       "      <th>Dietary Preference</th>\n",
       "      <th>Daily Calorie Target</th>\n",
       "      <th>Protein</th>\n",
       "      <th>Sugar</th>\n",
       "      <th>Sodium</th>\n",
       "      <th>Calories</th>\n",
       "      <th>Carbohydrates</th>\n",
       "      <th>Fiber</th>\n",
       "      <th>Fat</th>\n",
       "      <th>Breakfast Suggestion</th>\n",
       "      <th>Lunch Suggestion</th>\n",
       "      <th>Dinner Suggestion</th>\n",
       "      <th>Snack Suggestion</th>\n",
       "      <th>Disease</th>\n",
       "    </tr>\n",
       "  </thead>\n",
       "  <tbody>\n",
       "    <tr>\n",
       "      <th>0</th>\n",
       "      <td>25</td>\n",
       "      <td>Male</td>\n",
       "      <td>180</td>\n",
       "      <td>80</td>\n",
       "      <td>Moderately Active</td>\n",
       "      <td>Omnivore</td>\n",
       "      <td>2000</td>\n",
       "      <td>120</td>\n",
       "      <td>125.0</td>\n",
       "      <td>24.0</td>\n",
       "      <td>2020</td>\n",
       "      <td>250</td>\n",
       "      <td>30.0</td>\n",
       "      <td>60</td>\n",
       "      <td>Oatmeal with berries and nuts</td>\n",
       "      <td>Grilled chicken salad with mixed greens</td>\n",
       "      <td>Salmon with roasted vegetables</td>\n",
       "      <td>Greek yogurt with fruit</td>\n",
       "      <td>Weight Gain</td>\n",
       "    </tr>\n",
       "    <tr>\n",
       "      <th>1</th>\n",
       "      <td>32</td>\n",
       "      <td>Female</td>\n",
       "      <td>165</td>\n",
       "      <td>65</td>\n",
       "      <td>Lightly Active</td>\n",
       "      <td>Vegetarian</td>\n",
       "      <td>1600</td>\n",
       "      <td>80</td>\n",
       "      <td>100.0</td>\n",
       "      <td>16.0</td>\n",
       "      <td>1480</td>\n",
       "      <td>200</td>\n",
       "      <td>24.0</td>\n",
       "      <td>40</td>\n",
       "      <td>Tofu scramble with veggies</td>\n",
       "      <td>Lentil soup with whole wheat bread</td>\n",
       "      <td>Vegetable stir-fry with brown rice</td>\n",
       "      <td>Apple with almond butter</td>\n",
       "      <td>Weight Gain, Hypertension, Heart Disease</td>\n",
       "    </tr>\n",
       "    <tr>\n",
       "      <th>2</th>\n",
       "      <td>48</td>\n",
       "      <td>Male</td>\n",
       "      <td>175</td>\n",
       "      <td>95</td>\n",
       "      <td>Sedentary</td>\n",
       "      <td>Vegan</td>\n",
       "      <td>2200</td>\n",
       "      <td>100</td>\n",
       "      <td>150.0</td>\n",
       "      <td>20.0</td>\n",
       "      <td>2185</td>\n",
       "      <td>300</td>\n",
       "      <td>36.0</td>\n",
       "      <td>65</td>\n",
       "      <td>Tofu and veggie breakfast burrito</td>\n",
       "      <td>Black bean burger on a whole wheat bun</td>\n",
       "      <td>Lentil and vegetable curry</td>\n",
       "      <td>Trail mix</td>\n",
       "      <td>Weight Gain</td>\n",
       "    </tr>\n",
       "    <tr>\n",
       "      <th>3</th>\n",
       "      <td>55</td>\n",
       "      <td>Female</td>\n",
       "      <td>160</td>\n",
       "      <td>70</td>\n",
       "      <td>Very Active</td>\n",
       "      <td>Omnivore</td>\n",
       "      <td>2500</td>\n",
       "      <td>140</td>\n",
       "      <td>175.0</td>\n",
       "      <td>28.0</td>\n",
       "      <td>2680</td>\n",
       "      <td>350</td>\n",
       "      <td>42.0</td>\n",
       "      <td>80</td>\n",
       "      <td>Greek yogurt with granola and fruit</td>\n",
       "      <td>Chicken and vegetable stir-fry</td>\n",
       "      <td>Turkey chili with brown rice</td>\n",
       "      <td>Banana with peanut butter</td>\n",
       "      <td>Weight Gain</td>\n",
       "    </tr>\n",
       "    <tr>\n",
       "      <th>4</th>\n",
       "      <td>62</td>\n",
       "      <td>Male</td>\n",
       "      <td>170</td>\n",
       "      <td>85</td>\n",
       "      <td>Sedentary</td>\n",
       "      <td>Vegetarian</td>\n",
       "      <td>2000</td>\n",
       "      <td>80</td>\n",
       "      <td>125.0</td>\n",
       "      <td>16.0</td>\n",
       "      <td>1815</td>\n",
       "      <td>250</td>\n",
       "      <td>30.0</td>\n",
       "      <td>55</td>\n",
       "      <td>Scrambled eggs with whole wheat toast and avocado</td>\n",
       "      <td>Quinoa salad with chickpeas and vegetables</td>\n",
       "      <td>Vegetarian chili with cornbread</td>\n",
       "      <td>Fruit and nut mix</td>\n",
       "      <td>Weight Gain</td>\n",
       "    </tr>\n",
       "  </tbody>\n",
       "</table>\n",
       "</div>"
      ],
      "text/plain": [
       "   Ages  Gender  Height  Weight     Activity Level Dietary Preference  \\\n",
       "0    25    Male     180      80  Moderately Active           Omnivore   \n",
       "1    32  Female     165      65     Lightly Active         Vegetarian   \n",
       "2    48    Male     175      95          Sedentary              Vegan   \n",
       "3    55  Female     160      70        Very Active           Omnivore   \n",
       "4    62    Male     170      85          Sedentary         Vegetarian   \n",
       "\n",
       "   Daily Calorie Target  Protein  Sugar  Sodium  Calories  Carbohydrates  \\\n",
       "0                  2000      120  125.0    24.0      2020            250   \n",
       "1                  1600       80  100.0    16.0      1480            200   \n",
       "2                  2200      100  150.0    20.0      2185            300   \n",
       "3                  2500      140  175.0    28.0      2680            350   \n",
       "4                  2000       80  125.0    16.0      1815            250   \n",
       "\n",
       "   Fiber  Fat                               Breakfast Suggestion  \\\n",
       "0   30.0   60                      Oatmeal with berries and nuts   \n",
       "1   24.0   40                         Tofu scramble with veggies   \n",
       "2   36.0   65                  Tofu and veggie breakfast burrito   \n",
       "3   42.0   80                Greek yogurt with granola and fruit   \n",
       "4   30.0   55  Scrambled eggs with whole wheat toast and avocado   \n",
       "\n",
       "                             Lunch Suggestion  \\\n",
       "0     Grilled chicken salad with mixed greens   \n",
       "1          Lentil soup with whole wheat bread   \n",
       "2      Black bean burger on a whole wheat bun   \n",
       "3              Chicken and vegetable stir-fry   \n",
       "4  Quinoa salad with chickpeas and vegetables   \n",
       "\n",
       "                    Dinner Suggestion           Snack Suggestion  \\\n",
       "0      Salmon with roasted vegetables    Greek yogurt with fruit   \n",
       "1  Vegetable stir-fry with brown rice   Apple with almond butter   \n",
       "2          Lentil and vegetable curry                  Trail mix   \n",
       "3        Turkey chili with brown rice  Banana with peanut butter   \n",
       "4     Vegetarian chili with cornbread          Fruit and nut mix   \n",
       "\n",
       "                                    Disease  \n",
       "0                               Weight Gain  \n",
       "1  Weight Gain, Hypertension, Heart Disease  \n",
       "2                               Weight Gain  \n",
       "3                               Weight Gain  \n",
       "4                               Weight Gain  "
      ]
     },
     "execution_count": 6,
     "metadata": {},
     "output_type": "execute_result"
    }
   ],
   "source": [
    "df = pd.read_csv(\"Food_and_Nutrition.csv\")\n",
    "df.head()"
   ]
  },
  {
   "cell_type": "code",
   "execution_count": null,
   "metadata": {},
   "outputs": [],
   "source": []
  }
 ],
 "metadata": {
  "kernelspec": {
   "display_name": "Python 3",
   "language": "python",
   "name": "python3"
  },
  "language_info": {
   "codemirror_mode": {
    "name": "ipython",
    "version": 3
   },
   "file_extension": ".py",
   "mimetype": "text/x-python",
   "name": "python",
   "nbconvert_exporter": "python",
   "pygments_lexer": "ipython3",
   "version": "3.12.6"
  }
 },
 "nbformat": 4,
 "nbformat_minor": 2
}
